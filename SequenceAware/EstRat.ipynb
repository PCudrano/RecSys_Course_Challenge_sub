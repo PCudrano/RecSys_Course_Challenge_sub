{
 "cells": [
  {
   "cell_type": "markdown",
   "metadata": {},
   "source": [
    "### Load data and build matrices"
   ]
  },
  {
   "cell_type": "code",
   "execution_count": 1,
   "metadata": {},
   "outputs": [
    {
     "name": "stdout",
     "output_type": "stream",
     "text": [
      "/Users/archnnj/Development/recsys/recsys_polimi_challenge_2018/repo\n"
     ]
    }
   ],
   "source": [
    "cd ../../../../"
   ]
  },
  {
   "cell_type": "code",
   "execution_count": 2,
   "metadata": {},
   "outputs": [],
   "source": [
    "%load_ext autoreload\n",
    "%autoreload 2"
   ]
  },
  {
   "cell_type": "code",
   "execution_count": 142,
   "metadata": {},
   "outputs": [],
   "source": [
    "import numpy as np\n",
    "import pandas as pd\n",
    "import matplotlib.pyplot as pyplot\n",
    "%matplotlib inline\n",
    "import scipy.sparse as sps\n",
    "from scipy.stats import iqr\n",
    "import seaborn as sns\n",
    "sns.set(style=\"white\", color_codes=True)\n",
    "sns.set_context(rc={\"font.family\":'sans',\"font.size\":12,\"axes.titlesize\":12,\"axes.labelsize\":12})\n",
    "\n",
    "import src.utils.build_icm as build_icm\n",
    "from src.utils.data_splitter import train_test_holdout, train_test_user_holdout, train_test_row_holdout\n",
    "\n",
    "import time"
   ]
  },
  {
   "cell_type": "code",
   "execution_count": 4,
   "metadata": {},
   "outputs": [],
   "source": [
    "import sys\n",
    "sys.path.append(\"src/libs/RecSys_Course_2018/\") # go to parent dir\n",
    "sys.path.append(\"src/libs/RecSys_Course_2018/SequenceAware/sars_tutorial_master/\") # go to parent dir"
   ]
  },
  {
   "cell_type": "code",
   "execution_count": 5,
   "metadata": {},
   "outputs": [],
   "source": [
    "from src.recommenders.HybridLinCombEstRatings import HybridLinCombEstRatings"
   ]
  },
  {
   "cell_type": "markdown",
   "metadata": {},
   "source": [
    "#### Global vars"
   ]
  },
  {
   "cell_type": "code",
   "execution_count": 6,
   "metadata": {},
   "outputs": [],
   "source": [
    "JUPYTER = False"
   ]
  },
  {
   "cell_type": "markdown",
   "metadata": {},
   "source": [
    "#### Load data"
   ]
  },
  {
   "cell_type": "code",
   "execution_count": 7,
   "metadata": {},
   "outputs": [],
   "source": [
    "if JUPYTER:\n",
    "    # Jupyter\n",
    "    tracks_csv_file = \"../../../data/tracks.csv\"\n",
    "    interactions_csv_file = \"../../../data/train.csv\"\n",
    "    playlist_id_csv_file = \"../../../data/target_playlists.csv\"\n",
    "    sequential_csv_file = \"../../../data/train_sequential.csv\"\n",
    "else:\n",
    "    # PyCharm\n",
    "    tracks_csv_file = \"data/tracks.csv\"\n",
    "    interactions_csv_file = \"data/train.csv\"\n",
    "    playlist_id_csv_file = \"data/target_playlists.csv\"\n",
    "    sequential_csv_file = \"data/train_sequential.csv\"\n",
    "\n",
    "tracks_df = pd.read_csv(tracks_csv_file)\n",
    "interactions_df = pd.read_csv(interactions_csv_file)\n",
    "playlist_id_df = pd.read_csv(playlist_id_csv_file)\n",
    "train_sequential_df = pd.read_csv(sequential_csv_file)\n",
    "\n",
    "userList = interactions_df[\"playlist_id\"]\n",
    "itemList = interactions_df[\"track_id\"]\n",
    "ratingList = np.ones(interactions_df.shape[0])\n",
    "targetsList = playlist_id_df[\"playlist_id\"]\n",
    "targetsListList = targetsList.tolist()\n",
    "targetsListOrdered = targetsList[:5000].tolist()\n",
    "targetsListCasual = targetsList[5000:].tolist()\n",
    "\n",
    "userList_unique = pd.unique(userList)\n",
    "itemList_unique = tracks_df[\"track_id\"]\n",
    "numUsers = len(userList_unique)\n",
    "numItems = len(itemList_unique)\n",
    "numberInteractions = interactions_df.size"
   ]
  },
  {
   "cell_type": "code",
   "execution_count": 8,
   "metadata": {},
   "outputs": [],
   "source": [
    "URM_all = sps.coo_matrix((ratingList, (userList, itemList)))\n",
    "URM_all_csr = URM_all.tocsr()"
   ]
  },
  {
   "cell_type": "code",
   "execution_count": 9,
   "metadata": {},
   "outputs": [],
   "source": [
    "itemPopularity = (URM_all>0).sum(axis=0)\n",
    "itemPopularity = np.array(itemPopularity).squeeze()\n",
    "itemPopularity_unsorted = itemPopularity\n",
    "itemPopularity = np.sort(itemPopularity)"
   ]
  },
  {
   "cell_type": "markdown",
   "metadata": {},
   "source": [
    "#### Prepare ICM and URM with splits"
   ]
  },
  {
   "cell_type": "code",
   "execution_count": 115,
   "metadata": {},
   "outputs": [],
   "source": [
    "# Build ICM\n",
    "ICM_all = build_icm.build_icm(tracks_df, split_duration_lenght=800, feature_weights={'albums': 1, 'artists': 0.5, 'durations': 0.1})\n",
    "\n",
    "IDF_ENABLED = True\n",
    "\n",
    "if IDF_ENABLED:\n",
    "    num_tot_items = ICM_all.shape[0]\n",
    "    # let's count how many items have a certain feature\n",
    "    items_per_feature = (ICM_all > 0).sum(axis=0)\n",
    "    IDF = np.array(np.log(num_tot_items / items_per_feature))[0]\n",
    "    ICM_idf = ICM_all.copy()\n",
    "    # compute the number of non-zeros in each col\n",
    "    # NOTE: this works only if X is instance of sparse.csc_matrix\n",
    "    col_nnz = np.diff(sps.csc_matrix(ICM_idf).indptr)\n",
    "    # then normalize the values in each col\n",
    "    ICM_idf.data *= np.repeat(IDF, col_nnz)\n",
    "    ICM_all = ICM_idf  # use IDF features\n",
    "\n",
    "# #### Build URM\n",
    "\n",
    "URM_all = sps.coo_matrix((ratingList, (userList, itemList)))\n",
    "URM_all_csr = URM_all.tocsr()\n",
    "\n",
    "URM_IDF_ENABLED = False\n",
    "\n",
    "if URM_IDF_ENABLED:\n",
    "    num_tot_items = URM_all.shape[0]\n",
    "    # let's count how many items have a certain feature\n",
    "    items_per_feature = (URM_all > 0).sum(axis=0)\n",
    "    IDF = np.array(np.log(num_tot_items / items_per_feature))[0]\n",
    "    URM_idf = URM_all.copy()\n",
    "    # compute the number of non-zeros in each col\n",
    "    # NOTE: this works only if X is instance of sparse.csc_matrix\n",
    "    col_nnz = np.diff(sps.csc_matrix(URM_idf).indptr)\n",
    "    # then normalize the values in each col\n",
    "    URM_idf.data *= np.repeat(IDF, col_nnz)\n",
    "    URM_all = URM_idf  # use IDF features\n",
    "\n",
    "# #### Train/test split: ratings and user holdout\n",
    "\n",
    "seed = 0\n",
    "# ratings holdout\n",
    "# URM_train, URM_test_pred = train_test_holdout(URM_all, train_perc=0.8, seed=seed)\n",
    "# URM_valid=URM_test_pred\n",
    "# URM_test_known = None\n",
    "\n",
    "# user holdout\n",
    "# URM_train, URM_test_known, URM_test_pred = train_test_user_holdout(URM_all, user_perc=0.8, train_perc=0.8, seed=seed)\n",
    "\n",
    "# row holdout\n",
    "#URM_train, URM_test_pred = train_test_row_holdout(URM_all, userList_unique, train_sequential_df, train_perc=0.8, seed=seed, targetsListOrdered=targetsListOrdered, nnz_threshold=10)\n",
    "#URM_test_known = None\n",
    "URM_train, URM_test_pred = train_test_row_holdout(URM_all, targetsListOrdered, train_sequential_df,\n",
    "                                                        train_perc=0.8,\n",
    "                                                        seed=seed, targetsListOrdered=targetsListOrdered,\n",
    "                                                        nnz_threshold=2)\n",
    "\n",
    "# row holdout - validation\n",
    "# URM_train_val, URM_test_pred = train_test_row_holdout(URM_all, userList_unique, train_sequential_df, train_perc=0.8,\n",
    "#                                                       seed=seed, targetsListOrdered=targetsListOrdered,\n",
    "#                                                       nnz_threshold=10)\n",
    "# URM_train, URM_valid = train_test_holdout(URM_train_val, train_perc=0.7, seed=seed)\n",
    "# URM_test_known = None\n",
    "# URM_train, URM_valid_test_pred = train_test_row_holdout(URM_all, userList_unique, train_sequential_df,\n",
    "#                                                        train_perc=0.6,\n",
    "#                                                        seed=seed, targetsListOrdered=targetsListOrdered,\n",
    "#                                                        nnz_threshold=2)\n",
    "# URM_valid, URM_test_pred = train_test_row_holdout(URM_valid_test_pred, userList_unique, train_sequential_df,\n",
    "#                                                   train_perc=0.5,\n",
    "#                                                  seed=seed, targetsListOrdered=targetsListOrdered,\n",
    "#                                                  nnz_threshold=1)\n",
    "\n",
    "URM_train = URM_train\n",
    "#URM_validation = URM_valid\n",
    "URM_test = URM_test_pred"
   ]
  },
  {
   "cell_type": "raw",
   "metadata": {},
   "source": [
    "import pickle\n",
    "\n",
    "with open('dump/dump_URM_train_rowholdout0802th2', 'rb') as dump_file:\n",
    "    URM_train = pickle.load(dump_file)\n",
    "with open('dump/dump_URM_test_rowholdout0802th2', 'rb') as dump_file:\n",
    "    URM_test = pickle.load(dump_file)"
   ]
  },
  {
   "cell_type": "markdown",
   "metadata": {},
   "source": [
    "#### Utils"
   ]
  },
  {
   "cell_type": "code",
   "execution_count": 11,
   "metadata": {},
   "outputs": [],
   "source": [
    "def get_sequences_df(URM, train_sequential_df, user_arr):\n",
    "    sequences_arr = []\n",
    "    for user_id in user_arr:\n",
    "        URM_start_pos = URM.indptr[user_id]\n",
    "        URM_end_pos = URM.indptr[user_id + 1]\n",
    "        user_nnz = URM_end_pos - URM_start_pos\n",
    "        \n",
    "        if user_nnz > 0:\n",
    "            original_order_items = np.array(\n",
    "                train_sequential_df.loc[train_sequential_df['playlist_id'].isin([user_id])]['track_id'])\n",
    "            original_order_items = np.array([i for i in original_order_items if i in URM.indices[URM_start_pos:URM_end_pos]]) # filter items in urm\n",
    "            # original_order_items_sorted_i = original_order_items.argsort()\n",
    "            original_order_items = original_order_items.tolist()\n",
    "            for i in range(len(original_order_items)):\n",
    "                item = original_order_items[i]\n",
    "                sequences_arr.append({'pid':user_id, 'tid': item, 'pos': i})\n",
    "    sequences = pd.DataFrame(sequences_arr)\n",
    "    # sequences = sequences[['user_id', 'sequence']]\n",
    "    return sequences"
   ]
  },
  {
   "cell_type": "markdown",
   "metadata": {},
   "source": [
    "#### Create Sequence"
   ]
  },
  {
   "cell_type": "code",
   "execution_count": 116,
   "metadata": {},
   "outputs": [],
   "source": [
    "sequences = get_sequences_df(URM_all.tocsr(), train_sequential_df, targetsListOrdered)\n",
    "train_sequences = get_sequences_df(URM_train, train_sequential_df, targetsListOrdered)\n",
    "test_sequences = get_sequences_df(URM_test, train_sequential_df, targetsListOrdered)"
   ]
  },
  {
   "cell_type": "code",
   "execution_count": 13,
   "metadata": {},
   "outputs": [
    {
     "data": {
      "text/html": [
       "<div>\n",
       "<style scoped>\n",
       "    .dataframe tbody tr th:only-of-type {\n",
       "        vertical-align: middle;\n",
       "    }\n",
       "\n",
       "    .dataframe tbody tr th {\n",
       "        vertical-align: top;\n",
       "    }\n",
       "\n",
       "    .dataframe thead th {\n",
       "        text-align: right;\n",
       "    }\n",
       "</style>\n",
       "<table border=\"1\" class=\"dataframe\">\n",
       "  <thead>\n",
       "    <tr style=\"text-align: right;\">\n",
       "      <th></th>\n",
       "      <th>pid</th>\n",
       "      <th>pos</th>\n",
       "      <th>tid</th>\n",
       "    </tr>\n",
       "  </thead>\n",
       "  <tbody>\n",
       "    <tr>\n",
       "      <th>0</th>\n",
       "      <td>7</td>\n",
       "      <td>0</td>\n",
       "      <td>12493</td>\n",
       "    </tr>\n",
       "    <tr>\n",
       "      <th>1</th>\n",
       "      <td>7</td>\n",
       "      <td>1</td>\n",
       "      <td>17495</td>\n",
       "    </tr>\n",
       "    <tr>\n",
       "      <th>2</th>\n",
       "      <td>7</td>\n",
       "      <td>2</td>\n",
       "      <td>13424</td>\n",
       "    </tr>\n",
       "    <tr>\n",
       "      <th>3</th>\n",
       "      <td>7</td>\n",
       "      <td>3</td>\n",
       "      <td>7109</td>\n",
       "    </tr>\n",
       "    <tr>\n",
       "      <th>4</th>\n",
       "      <td>7</td>\n",
       "      <td>4</td>\n",
       "      <td>14714</td>\n",
       "    </tr>\n",
       "  </tbody>\n",
       "</table>\n",
       "</div>"
      ],
      "text/plain": [
       "   pid  pos    tid\n",
       "0    7    0  12493\n",
       "1    7    1  17495\n",
       "2    7    2  13424\n",
       "3    7    3   7109\n",
       "4    7    4  14714"
      ]
     },
     "execution_count": 13,
     "metadata": {},
     "output_type": "execute_result"
    }
   ],
   "source": [
    "sequences.head()"
   ]
  },
  {
   "cell_type": "code",
   "execution_count": 14,
   "metadata": {},
   "outputs": [
    {
     "data": {
      "text/html": [
       "<div>\n",
       "<style scoped>\n",
       "    .dataframe tbody tr th:only-of-type {\n",
       "        vertical-align: middle;\n",
       "    }\n",
       "\n",
       "    .dataframe tbody tr th {\n",
       "        vertical-align: top;\n",
       "    }\n",
       "\n",
       "    .dataframe thead th {\n",
       "        text-align: right;\n",
       "    }\n",
       "</style>\n",
       "<table border=\"1\" class=\"dataframe\">\n",
       "  <thead>\n",
       "    <tr style=\"text-align: right;\">\n",
       "      <th></th>\n",
       "      <th>pid</th>\n",
       "      <th>pos</th>\n",
       "      <th>tid</th>\n",
       "    </tr>\n",
       "  </thead>\n",
       "  <tbody>\n",
       "    <tr>\n",
       "      <th>0</th>\n",
       "      <td>7</td>\n",
       "      <td>0</td>\n",
       "      <td>12493</td>\n",
       "    </tr>\n",
       "    <tr>\n",
       "      <th>1</th>\n",
       "      <td>7</td>\n",
       "      <td>1</td>\n",
       "      <td>17495</td>\n",
       "    </tr>\n",
       "    <tr>\n",
       "      <th>2</th>\n",
       "      <td>7</td>\n",
       "      <td>2</td>\n",
       "      <td>13424</td>\n",
       "    </tr>\n",
       "    <tr>\n",
       "      <th>3</th>\n",
       "      <td>7</td>\n",
       "      <td>3</td>\n",
       "      <td>7109</td>\n",
       "    </tr>\n",
       "    <tr>\n",
       "      <th>4</th>\n",
       "      <td>7</td>\n",
       "      <td>4</td>\n",
       "      <td>14714</td>\n",
       "    </tr>\n",
       "  </tbody>\n",
       "</table>\n",
       "</div>"
      ],
      "text/plain": [
       "   pid  pos    tid\n",
       "0    7    0  12493\n",
       "1    7    1  17495\n",
       "2    7    2  13424\n",
       "3    7    3   7109\n",
       "4    7    4  14714"
      ]
     },
     "execution_count": 14,
     "metadata": {},
     "output_type": "execute_result"
    }
   ],
   "source": [
    "train_sequences.head()"
   ]
  },
  {
   "cell_type": "code",
   "execution_count": 15,
   "metadata": {},
   "outputs": [
    {
     "data": {
      "text/html": [
       "<div>\n",
       "<style scoped>\n",
       "    .dataframe tbody tr th:only-of-type {\n",
       "        vertical-align: middle;\n",
       "    }\n",
       "\n",
       "    .dataframe tbody tr th {\n",
       "        vertical-align: top;\n",
       "    }\n",
       "\n",
       "    .dataframe thead th {\n",
       "        text-align: right;\n",
       "    }\n",
       "</style>\n",
       "<table border=\"1\" class=\"dataframe\">\n",
       "  <thead>\n",
       "    <tr style=\"text-align: right;\">\n",
       "      <th></th>\n",
       "      <th>pid</th>\n",
       "      <th>pos</th>\n",
       "      <th>tid</th>\n",
       "    </tr>\n",
       "  </thead>\n",
       "  <tbody>\n",
       "    <tr>\n",
       "      <th>0</th>\n",
       "      <td>7</td>\n",
       "      <td>0</td>\n",
       "      <td>8869</td>\n",
       "    </tr>\n",
       "    <tr>\n",
       "      <th>1</th>\n",
       "      <td>7</td>\n",
       "      <td>1</td>\n",
       "      <td>13359</td>\n",
       "    </tr>\n",
       "    <tr>\n",
       "      <th>2</th>\n",
       "      <td>7</td>\n",
       "      <td>2</td>\n",
       "      <td>15296</td>\n",
       "    </tr>\n",
       "    <tr>\n",
       "      <th>3</th>\n",
       "      <td>7</td>\n",
       "      <td>3</td>\n",
       "      <td>17114</td>\n",
       "    </tr>\n",
       "    <tr>\n",
       "      <th>4</th>\n",
       "      <td>7</td>\n",
       "      <td>4</td>\n",
       "      <td>3767</td>\n",
       "    </tr>\n",
       "  </tbody>\n",
       "</table>\n",
       "</div>"
      ],
      "text/plain": [
       "   pid  pos    tid\n",
       "0    7    0   8869\n",
       "1    7    1  13359\n",
       "2    7    2  15296\n",
       "3    7    3  17114\n",
       "4    7    4   3767"
      ]
     },
     "execution_count": 15,
     "metadata": {},
     "output_type": "execute_result"
    }
   ],
   "source": [
    "test_sequences.head()"
   ]
  },
  {
   "cell_type": "markdown",
   "metadata": {},
   "source": [
    "#### Evaluation setup"
   ]
  },
  {
   "cell_type": "code",
   "execution_count": 17,
   "metadata": {},
   "outputs": [],
   "source": [
    "users_excluded_targets_for_cas = [u for u in userList_unique if u not in targetsListCasual]"
   ]
  },
  {
   "cell_type": "code",
   "execution_count": 117,
   "metadata": {},
   "outputs": [],
   "source": [
    "users_excluded_targets_for_seq = [u for u in userList_unique if u not in targetsListOrdered]"
   ]
  },
  {
   "cell_type": "code",
   "execution_count": 19,
   "metadata": {},
   "outputs": [],
   "source": [
    "users_excluded_targets_for_tot = [u for u in userList_unique if u not in targetsListList]"
   ]
  },
  {
   "cell_type": "code",
   "execution_count": 20,
   "metadata": {},
   "outputs": [
    {
     "name": "stdout",
     "output_type": "stream",
     "text": [
      "Ignoring 45446 Users\n"
     ]
    }
   ],
   "source": [
    "from Base.Evaluation.Evaluator import SequentialEvaluator, CompleteEvaluator, FastEvaluator\n",
    "\n",
    "evaluator_test_casual = FastEvaluator(URM_test, cutoff_list=[10], minRatingsPerUser=1, exclude_seen=True, ignore_users=users_excluded_targets_for_cas)"
   ]
  },
  {
   "cell_type": "code",
   "execution_count": 118,
   "metadata": {},
   "outputs": [
    {
     "name": "stdout",
     "output_type": "stream",
     "text": [
      "Ignoring 45446 Users\n"
     ]
    }
   ],
   "source": [
    "from Base.Evaluation.Evaluator import SequentialEvaluator, CompleteEvaluator, FastEvaluator\n",
    "\n",
    "evaluator_test_seq = FastEvaluator(URM_test, cutoff_list=[10], minRatingsPerUser=1, exclude_seen=True, ignore_users=users_excluded_targets_for_seq)"
   ]
  },
  {
   "cell_type": "code",
   "execution_count": 22,
   "metadata": {},
   "outputs": [
    {
     "name": "stdout",
     "output_type": "stream",
     "text": [
      "Ignoring 40446 Users\n"
     ]
    }
   ],
   "source": [
    "from Base.Evaluation.Evaluator import SequentialEvaluator, CompleteEvaluator, FastEvaluator\n",
    "\n",
    "evaluator_test_tot = FastEvaluator(URM_test, cutoff_list=[10], minRatingsPerUser=1, exclude_seen=True, ignore_users=users_excluded_targets_for_tot)"
   ]
  },
  {
   "cell_type": "markdown",
   "metadata": {},
   "source": [
    "#### Load estimate ratings"
   ]
  },
  {
   "cell_type": "code",
   "execution_count": 119,
   "metadata": {},
   "outputs": [],
   "source": [
    "import pickle\n",
    "\n",
    "#with open(\"dump/dump_est_rat_tot_array_complete\", \"rb\") as dump_file:\n",
    "#    recsys_est_ratings = pickle.load(dump_file)\n",
    "with open(\"dump/dump_est_rat_seq_sum_train0802th2\", \"rb\") as dump_file:\n",
    "    total_est_ratings = pickle.load(dump_file)"
   ]
  },
  {
   "cell_type": "code",
   "execution_count": 139,
   "metadata": {},
   "outputs": [
    {
     "data": {
      "text/plain": [
       "(0.0, 2763.6292, 1.0019466)"
      ]
     },
     "execution_count": 139,
     "metadata": {},
     "output_type": "execute_result"
    }
   ],
   "source": [
    "total_est_ratings.min(), total_est_ratings.max(), total_est_ratings.mean()"
   ]
  },
  {
   "cell_type": "raw",
   "metadata": {},
   "source": [
    "pyplot.title('')\n",
    "pyplot.plot(sorted(total_est_ratings.data), 'r-')\n",
    "pyplot.ylabel('')\n",
    "pyplot.xlabel('')\n",
    "pyplot.show()"
   ]
  },
  {
   "cell_type": "code",
   "execution_count": 146,
   "metadata": {},
   "outputs": [
    {
     "data": {
      "text/plain": [
       "Text(0.5, 1.0, 'Distribution and Density of Duration (100 bins)')"
      ]
     },
     "execution_count": 146,
     "metadata": {},
     "output_type": "execute_result"
    },
    {
     "data": {
      "image/png": "[encoded data removed]",
      "text/plain": [
       "<Figure size 432x288 with 1 Axes>"
      ]
     },
     "metadata": {},
     "output_type": "display_data"
    }
   ],
   "source": [
    "sns.set_style(\"whitegrid\")\n",
    "sns.set_context(\"notebook\", font_scale=1.5, rc={\"lines.linewidth\": 2.5})\n",
    "dp = sns.distplot(total_est_ratings.data,bins=100)\n",
    "dp.set_title('Distribution and Density of Duration (100 bins)')"
   ]
  },
  {
   "cell_type": "markdown",
   "metadata": {},
   "source": [
    "#### Boosting"
   ]
  },
  {
   "cell_type": "code",
   "execution_count": 33,
   "metadata": {},
   "outputs": [],
   "source": [
    "import src.utils.similarity_wrapper as sim\n",
    "sim_k = 100\n",
    "sim_shrinkage = 1\n",
    "sim_type = \"cosine\"\n",
    "sim_alpha = -1\n",
    "sim_beta = -1\n",
    "sim_threshold = 0\n",
    "similarity = sim.compute_similarity(type=sim_type, matrix=URM_train.T, k=sim_k, shrink=sim_shrinkage,\n",
    "                                    alpha=sim_alpha, beta=sim_beta, threshold=sim_threshold)\n",
    "similarity = similarity.T.tocsr()"
   ]
  },
  {
   "cell_type": "code",
   "execution_count": 55,
   "metadata": {},
   "outputs": [],
   "source": [
    "sys.path.append(\"src/libs/spotify_recsys_challenge_master/\") # go to parent dir\n",
    "from utils.pre_processing import * # norms"
   ]
  },
  {
   "cell_type": "markdown",
   "metadata": {},
   "source": [
    "#### HoleBoost / GapBoost (not working for us)"
   ]
  },
  {
   "cell_type": "raw",
   "metadata": {},
   "source": [
    "from src.libs.spotify_recsys_challenge_master.boosts.hole_boost import HoleBoost\n",
    "hb = HoleBoost(test_sequences, similarity, total_est_ratings, norm=norm_l2_row)"
   ]
  },
  {
   "cell_type": "raw",
   "metadata": {},
   "source": [
    "eurm_boosted = hb.boost_eurm(playlists_indices_to_boost=targetsListCasual, k=200, gamma=10)"
   ]
  },
  {
   "cell_type": "markdown",
   "metadata": {},
   "source": [
    "#### HeteroBoost"
   ]
  },
  {
   "cell_type": "code",
   "execution_count": 39,
   "metadata": {},
   "outputs": [],
   "source": [
    "from src.libs.spotify_recsys_challenge_master.boosts.hetero_boost import HeteroBoost\n",
    "hetb = HeteroBoost(train_sequences, tracks_df, total_est_ratings, URM_train, norm=norm_l1_row)"
   ]
  },
  {
   "cell_type": "code",
   "execution_count": 40,
   "metadata": {},
   "outputs": [],
   "source": [
    "longTh = 25\n",
    "targetsListOrderedLong = [u for u in targetsListOrdered if URM_train[u].nnz >= longTh]"
   ]
  },
  {
   "cell_type": "code",
   "execution_count": 43,
   "metadata": {},
   "outputs": [
    {
     "name": "stderr",
     "output_type": "stream",
     "text": [
      "HeteroBoost: 100%|██████████| 1213/1213 [00:00<00:00, 18751.90it/s]\n"
     ]
    }
   ],
   "source": [
    "# eurm_boosted = hetb.boost_eurm(playlists_indices_to_boost=targetsListOrderedLong, gamma=0.5) # NOT GOOD"
   ]
  },
  {
   "cell_type": "markdown",
   "metadata": {},
   "source": [
    "#### TailBoost"
   ]
  },
  {
   "cell_type": "code",
   "execution_count": 51,
   "metadata": {},
   "outputs": [],
   "source": [
    "from src.libs.spotify_recsys_challenge_master.boosts.tail_boost import TailBoost\n",
    "tb = TailBoost(test_sequences, total_est_ratings, similarity, norm=norm_l2_row)"
   ]
  },
  {
   "cell_type": "raw",
   "metadata": {},
   "source": [
    "WORKED a bit!!\n",
    "last_tracks = 1 # [10, 3, 3, 3]\n",
    "k= 100 # [100, 80, 100, 100]\n",
    "gamma= 0.005 # [0.01, 0.01, 0.01, 0.01]\n",
    "eurm_boosted = tb.boost_eurm(targetsListOrdered, last_tracks, k, gamma)"
   ]
  },
  {
   "cell_type": "code",
   "execution_count": 52,
   "metadata": {},
   "outputs": [
    {
     "name": "stderr",
     "output_type": "stream",
     "text": [
      "TailBoost: 100%|██████████| 5000/5000 [00:05<00:00, 965.18it/s] \n"
     ]
    }
   ],
   "source": [
    "last_tracks = 1 # [10, 3, 3, 3]\n",
    "k= 158 # [100, 80, 100, 100]\n",
    "gamma= 0.001567686896365356 # [0.01, 0.01, 0.01, 0.01]\n",
    "eurm_boosted = tb.boost_eurm(targetsListOrdered, last_tracks, k, gamma)"
   ]
  },
  {
   "cell_type": "markdown",
   "metadata": {},
   "source": [
    "#### AlbumBoost"
   ]
  },
  {
   "cell_type": "code",
   "execution_count": 92,
   "metadata": {},
   "outputs": [
    {
     "name": "stderr",
     "output_type": "stream",
     "text": [
      "Creating dictionary album to tracks: 20635it [00:02, 7119.41it/s]\n"
     ]
    }
   ],
   "source": [
    "from src.libs.spotify_recsys_challenge_master.boosts.album_boost import AlbumBoost\n",
    "ab = AlbumBoost(test_sequences, tracks_df, URM_train, total_est_ratings, norm=norm_l2_row)"
   ]
  },
  {
   "cell_type": "code",
   "execution_count": 111,
   "metadata": {},
   "outputs": [
    {
     "name": "stderr",
     "output_type": "stream",
     "text": [
      "AlbumBoost: 100%|██████████| 5000/5000 [00:00<00:00, 6397.55it/s]\n"
     ]
    }
   ],
   "source": [
    "top_k=10\n",
    "gamma=0.1\n",
    "eurm_boosted = ab.boost_eurm(playlists_indices_to_boost=targetsListOrdered, top_k=top_k, gamma=gamma)"
   ]
  },
  {
   "cell_type": "markdown",
   "metadata": {},
   "source": [
    "#### Apply est_rat"
   ]
  },
  {
   "cell_type": "code",
   "execution_count": 127,
   "metadata": {},
   "outputs": [],
   "source": [
    "eurm_boosted = total_est_ratings"
   ]
  },
  {
   "cell_type": "code",
   "execution_count": 128,
   "metadata": {},
   "outputs": [
    {
     "name": "stdout",
     "output_type": "stream",
     "text": [
      "Init recsys\n",
      "Fitting recsys\n",
      "Hopefully done\n"
     ]
    }
   ],
   "source": [
    "recsys_est_ratings = []\n",
    "print(\"Init recsys\")\n",
    "recommender = HybridLinCombEstRatings(URM_train, [])\n",
    "print(\"Fitting recsys\")\n",
    "recommender.mine_est_ratings = eurm_boosted\n",
    "print(\"Hopefully done\")"
   ]
  },
  {
   "cell_type": "code",
   "execution_count": 135,
   "metadata": {},
   "outputs": [
    {
     "name": "stdout",
     "output_type": "stream",
     "text": [
      "Evaluated user 0 of 5000\n",
      "Recommender performance is: Precision = 0.0582, Recall = 0.1432, MAP = 0.0650\n",
      "Elapsed time [mm:ss.fff]: 00:01.624\n"
     ]
    }
   ],
   "source": [
    "from src.utils.evaluation import evaluate_algorithm, evaluate_algorithm_targets\n",
    "result_dict = evaluate_algorithm_targets(URM_test, recommender, targets=targetsListOrdered, at=10, ours=False)"
   ]
  },
  {
   "cell_type": "code",
   "execution_count": 122,
   "metadata": {},
   "outputs": [
    {
     "name": "stdout",
     "output_type": "stream",
     "text": [
      "Fast Evaluator\n",
      "Elapsed time (CompleteEval of 5000 users) [mm:ss.fff]: 00:01.888. Users per second: 2648\n",
      "Elapsed time (recommend_mat_fast) [mm:ss.fff]: 00:01.903\n",
      "Algorithm: <class 'src.recommenders.HybridLinCombEstRatings.HybridLinCombEstRatings'>, results: \n",
      "CUTOFF: 10 - ROC_AUC: 0.0000000, PRECISION: 0.0000000, RECALL: 0.0000000, RECALL_TEST_LEN: 0.0000000, MAP: 0.0650082, MRR: 0.0000000, NDCG: 0.0000000, F1: 0.0000000, HIT_RATE: 0.0000000, ARHR: 0.0000000, NOVELTY: 0.0000000, DIVERSITY_MEAN_INTER_LIST: 1.0000000, DIVERSITY_HERFINDAHL: nan, COVERAGE_ITEM: 0.0000000, COVERAGE_USER: 0.0000000, DIVERSITY_GINI: 0.0000000, SHANNON_ENTROPY: -0.0000000, \n",
      "\n"
     ]
    }
   ],
   "source": [
    "t = time.time()\n",
    "\n",
    "results_run, results_run_string = evaluator_test_seq.evaluateRecommender(recommender)\n",
    "\n",
    "elapsed_time = time.time() - t\n",
    "print(\"Elapsed time (recommend_mat_fast) [mm:ss.fff]: {:02d}:{:06.3f}\".format(int(elapsed_time / 60),\n",
    "                                                                              elapsed_time - 60 * int(\n",
    "                                                                              elapsed_time / 60)))\n",
    "\n",
    "print(\"Algorithm: {}, results: \\n{}\".format(recommender.__class__, results_run_string))"
   ]
  },
  {
   "cell_type": "code",
   "execution_count": 114,
   "metadata": {},
   "outputs": [],
   "source": [
    "# tot? 0.1267601"
   ]
  },
  {
   "cell_type": "code",
   "execution_count": 32,
   "metadata": {},
   "outputs": [],
   "source": [
    "# seq 0.0650082"
   ]
  },
  {
   "cell_type": "code",
   "execution_count": null,
   "metadata": {},
   "outputs": [],
   "source": []
  }
 ],
 "metadata": {
  "kernelspec": {
   "display_name": "Python 3",
   "language": "python",
   "name": "python3"
  },
  "language_info": {
   "codemirror_mode": {
    "name": "ipython",
    "version": 3
   },
   "file_extension": ".py",
   "mimetype": "text/x-python",
   "name": "python",
   "nbconvert_exporter": "python",
   "pygments_lexer": "ipython3",
   "version": "3.6.7"
  }
 },
 "nbformat": 4,
 "nbformat_minor": 2
}

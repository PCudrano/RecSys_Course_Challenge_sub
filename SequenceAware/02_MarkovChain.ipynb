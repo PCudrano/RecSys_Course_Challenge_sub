{
 "cells": [
  {
   "cell_type": "markdown",
   "metadata": {},
   "source": [
    "### Load data and build matrices"
   ]
  },
  {
   "cell_type": "code",
   "execution_count": 1,
   "metadata": {},
   "outputs": [
    {
     "name": "stdout",
     "output_type": "stream",
     "text": [
      "/Users/archnnj/Development/recsys/recsys_polimi_challenge_2018/repo\n"
     ]
    }
   ],
   "source": [
    "cd ../../../../"
   ]
  },
  {
   "cell_type": "code",
   "execution_count": 2,
   "metadata": {},
   "outputs": [],
   "source": [
    "%load_ext autoreload\n",
    "%autoreload 2"
   ]
  },
  {
   "cell_type": "code",
   "execution_count": 3,
   "metadata": {},
   "outputs": [],
   "source": [
    "import numpy as np\n",
    "import pandas as pd\n",
    "import matplotlib.pyplot as pyplot\n",
    "%matplotlib inline\n",
    "import scipy.sparse as sps\n",
    "from scipy.stats import iqr\n",
    "import seaborn as sns\n",
    "sns.set(style=\"white\", color_codes=True)\n",
    "sns.set_context(rc={\"font.family\":'sans',\"font.size\":12,\"axes.titlesize\":12,\"axes.labelsize\":12})\n",
    "\n",
    "import src.utils.build_icm as build_icm\n",
    "from src.utils.data_splitter import train_test_holdout, train_test_user_holdout, train_test_row_holdout"
   ]
  },
  {
   "cell_type": "code",
   "execution_count": 4,
   "metadata": {},
   "outputs": [],
   "source": [
    "import sys\n",
    "sys.path.append(\"src/libs/RecSys_Course_2018/\") # go to parent dir\n",
    "sys.path.append(\"src/libs/RecSys_Course_2018/SequenceAware/sars_tutorial_master/\") # go to parent dir"
   ]
  },
  {
   "cell_type": "code",
   "execution_count": 5,
   "metadata": {},
   "outputs": [],
   "source": [
    "from SequenceAware.sars_tutorial_master.util.data_utils import create_seq_db_filter_top_k, sequences_to_spfm_format\n",
    "from SequenceAware.sars_tutorial_master.util.data_utils import create_seq_db_filter_top_k, sequences_to_spfm_format\n",
    "from SequenceAware.sars_tutorial_master.util.split import last_session_out_split\n",
    "from SequenceAware.sars_tutorial_master.util.metrics import precision, recall, mrr\n",
    "from SequenceAware.sars_tutorial_master.util import evaluation\n",
    "from SequenceAware.sars_tutorial_master.recommenders.MixedMarkovRecommender import MixedMarkovChainRecommender"
   ]
  },
  {
   "cell_type": "markdown",
   "metadata": {},
   "source": [
    "#### Global vars"
   ]
  },
  {
   "cell_type": "code",
   "execution_count": 6,
   "metadata": {},
   "outputs": [],
   "source": [
    "JUPYTER = False"
   ]
  },
  {
   "cell_type": "markdown",
   "metadata": {},
   "source": [
    "#### Load data"
   ]
  },
  {
   "cell_type": "code",
   "execution_count": 7,
   "metadata": {},
   "outputs": [],
   "source": [
    "if JUPYTER:\n",
    "    # Jupyter\n",
    "    tracks_csv_file = \"../../../data/tracks.csv\"\n",
    "    interactions_csv_file = \"../../../data/train.csv\"\n",
    "    playlist_id_csv_file = \"../../../data/target_playlists.csv\"\n",
    "    sequential_csv_file = \"../../../data/train_sequential.csv\"\n",
    "else:\n",
    "    # PyCharm\n",
    "    tracks_csv_file = \"data/tracks.csv\"\n",
    "    interactions_csv_file = \"data/train.csv\"\n",
    "    playlist_id_csv_file = \"data/target_playlists.csv\"\n",
    "    sequential_csv_file = \"data/train_sequential.csv\"\n",
    "\n",
    "tracks_df = pd.read_csv(tracks_csv_file)\n",
    "interactions_df = pd.read_csv(interactions_csv_file)\n",
    "playlist_id_df = pd.read_csv(playlist_id_csv_file)\n",
    "train_sequential_df = pd.read_csv(sequential_csv_file)\n",
    "\n",
    "userList = interactions_df[\"playlist_id\"]\n",
    "itemList = interactions_df[\"track_id\"]\n",
    "ratingList = np.ones(interactions_df.shape[0])\n",
    "targetsList = playlist_id_df[\"playlist_id\"]\n",
    "targetsListOrdered = targetsList[:5000].tolist()\n",
    "targetsListCasual = targetsList[5000:].tolist()\n",
    "\n",
    "userList_unique = pd.unique(userList)\n",
    "itemList_unique = tracks_df[\"track_id\"]\n",
    "numUsers = len(userList_unique)\n",
    "numItems = len(itemList_unique)\n",
    "numberInteractions = interactions_df.size"
   ]
  },
  {
   "cell_type": "code",
   "execution_count": 8,
   "metadata": {},
   "outputs": [],
   "source": [
    "URM_all = sps.coo_matrix((ratingList, (userList, itemList)))\n",
    "URM_all_csr = URM_all.tocsr()"
   ]
  },
  {
   "cell_type": "code",
   "execution_count": 9,
   "metadata": {},
   "outputs": [],
   "source": [
    "itemPopularity = (URM_all>0).sum(axis=0)\n",
    "itemPopularity = np.array(itemPopularity).squeeze()\n",
    "itemPopularity_unsorted = itemPopularity\n",
    "itemPopularity = np.sort(itemPopularity)"
   ]
  },
  {
   "cell_type": "markdown",
   "metadata": {},
   "source": [
    "#### Prepare ICM and URM with splits"
   ]
  },
  {
   "cell_type": "code",
   "execution_count": 10,
   "metadata": {},
   "outputs": [],
   "source": [
    "import pickle\n",
    "\n",
    "with open('dump/dump_URM_train_rowholdout0802', 'rb') as dump_file:\n",
    "    URM_train = pickle.load(dump_file)\n",
    "with open('dump/dump_URM_test_rowholdout0802', 'rb') as dump_file:\n",
    "    URM_test = pickle.load(dump_file)"
   ]
  },
  {
   "cell_type": "markdown",
   "metadata": {},
   "source": [
    "#### 3. Fitting the recommender"
   ]
  },
  {
   "cell_type": "code",
   "execution_count": 12,
   "metadata": {},
   "outputs": [],
   "source": [
    "# You can try with max_order=2 or higher too, but it will take some time to complete though due to slow heristic computations\n",
    "recommender = MixedMarkovChainRecommender(URM_train, train_sequential_df, targetsListOrdered,\n",
    "                                          min_order=1, \n",
    "                                          max_order=1)"
   ]
  },
  {
   "cell_type": "code",
   "execution_count": 13,
   "metadata": {},
   "outputs": [
    {
     "name": "stderr",
     "output_type": "stream",
     "text": [
      "2019-01-10 02:39:39,770 - INFO - Building Markov Chain model with k = 1\n",
      "2019-01-10 02:39:39,774 - INFO - Adding nodes\n",
      "2019-01-10 02:39:51,672 - INFO - Adding edges\n",
      "2019-01-10 02:56:53,536 - INFO - Applying skipping\n",
      "2019-01-10 02:56:58,981 - INFO - Applying clustering\n",
      "2019-01-10 02:56:58,983 - INFO - 12540 states in the graph\n"
     ]
    }
   ],
   "source": [
    "recommender.fit()"
   ]
  },
  {
   "cell_type": "raw",
   "metadata": {},
   "source": [
    "import pickle\n",
    "import networkx as nx\n",
    "\n",
    "with open('dump/dump_MixedMarkovChainRecommender_ord_1_1', 'wb') as dump_file:\n",
    "    pickle.dump(recommender, dump_file)\n",
    "nx.write_gpickle(recommender.recommenders[1].G, \"dump/dump_MixedMarkovChainRecommender_ord_1_1_gpickle\")\n"
   ]
  },
  {
   "cell_type": "code",
   "execution_count": 19,
   "metadata": {},
   "outputs": [
    {
     "data": {
      "text/plain": [
       "<networkx.classes.digraph.DiGraph at 0x111614e10>"
      ]
     },
     "execution_count": 19,
     "metadata": {},
     "output_type": "execute_result"
    }
   ],
   "source": [
    "recommender.recommenders[1].G."
   ]
  },
  {
   "cell_type": "code",
   "execution_count": null,
   "metadata": {},
   "outputs": [],
   "source": []
  },
  {
   "cell_type": "code",
   "execution_count": 25,
   "metadata": {},
   "outputs": [
    {
     "name": "stdout",
     "output_type": "stream",
     "text": [
      "\n"
     ]
    },
    {
     "data": {
      "text/plain": [
       "<50446x20635 sparse matrix of type '<class 'numpy.float64'>'\n",
       "\twith 0 stored elements in Compressed Sparse Row format>"
      ]
     },
     "execution_count": 25,
     "metadata": {},
     "output_type": "execute_result"
    }
   ],
   "source": [
    "est_rat = recommender.compute_markov_score(targetsListOrdered)\n",
    "print(est_rat)\n",
    "est_rat"
   ]
  },
  {
   "cell_type": "code",
   "execution_count": null,
   "metadata": {},
   "outputs": [],
   "source": [
    "recommendations = recommender.recommend(targetsListOrdered, cutoff=10)\n",
    "recommendations"
   ]
  },
  {
   "cell_type": "markdown",
   "metadata": {},
   "source": [
    "#### Saving and loading mechanism"
   ]
  },
  {
   "cell_type": "markdown",
   "metadata": {},
   "source": [
    "##### Saving"
   ]
  },
  {
   "cell_type": "code",
   "execution_count": 16,
   "metadata": {},
   "outputs": [
    {
     "name": "stdout",
     "output_type": "stream",
     "text": [
      "MixedMarkovChainRecommender: Saving model in file 'dump/dump_MixedMarkovChainRecommender_ord_1_1'\n",
      "{}: Saving complete\n",
      "MarkovChainRecommender: Saving model in file 'dump/dump_MixedMarkovChainRecommender_ord_1_1_MarkovChainRecommender_order_1'\n",
      "MarkovChainRecommender: Saving graph model in file 'dump/dump_MixedMarkovChainRecommender_ord_1_1_MarkovChainRecommender_order_1_G'\n",
      "{}: Saving complete\n"
     ]
    }
   ],
   "source": [
    "recommender.saveModel(\"dump/\", \"dump_MixedMarkovChainRecommender_ord_1_1\")"
   ]
  },
  {
   "cell_type": "markdown",
   "metadata": {},
   "source": [
    "##### Loading"
   ]
  },
  {
   "cell_type": "code",
   "execution_count": 11,
   "metadata": {},
   "outputs": [],
   "source": [
    "recommender_load = MixedMarkovChainRecommender(URM_train, train_sequential_df, targetsListOrdered,\n",
    "                                          min_order=1, \n",
    "                                          max_order=1)"
   ]
  },
  {
   "cell_type": "code",
   "execution_count": 12,
   "metadata": {},
   "outputs": [
    {
     "name": "stdout",
     "output_type": "stream",
     "text": [
      "MixedMarkovChainRecommender: Loading model from file 'dump/dump_MixedMarkovChainRecommender_ord_1_1'\n",
      "MixedMarkovChainRecommender: Loading complete\n",
      "MarkovChainRecommender: Loading model from file 'dump/dump_MixedMarkovChainRecommender_ord_1_1_MarkovChainRecommender_order_1'\n",
      "MarkovChainRecommender: Loading complete\n",
      "MarkovChainRecommender: Loading graph model from file 'dump/dump_MixedMarkovChainRecommender_ord_1_1_MarkovChainRecommender_order_1_G'\n",
      "MarkovChainRecommender: Loading of graph model complete\n"
     ]
    }
   ],
   "source": [
    "recommender_load.loadModel(\"dump/\", \"dump_MixedMarkovChainRecommender_ord_1_1\")"
   ]
  },
  {
   "cell_type": "markdown",
   "metadata": {},
   "source": [
    "##### Test loaded model"
   ]
  },
  {
   "cell_type": "code",
   "execution_count": 13,
   "metadata": {},
   "outputs": [
    {
     "name": "stdout",
     "output_type": "stream",
     "text": [
      "  (7, 215)\t0.0009088337542277413\n",
      "  (7, 229)\t0.00028401054819616914\n",
      "  (7, 315)\t0.0009088337542277413\n",
      "  (7, 358)\t1.3867702548641072e-08\n",
      "  (7, 414)\t0.00022720843855693533\n",
      "  (7, 436)\t0.0009088337542277413\n",
      "  (7, 541)\t1.1094162038912858e-07\n",
      "  (7, 573)\t0.00022720843855693533\n",
      "  (7, 583)\t0.003635335016910965\n",
      "  (7, 603)\t0.0009088337542277413\n",
      "  (7, 648)\t0.00011365969008866223\n",
      "  (7, 849)\t0.003635335016910965\n",
      "  (7, 868)\t0.003635335016910965\n",
      "  (7, 961)\t1.1094162038912858e-07\n",
      "  (7, 1006)\t0.00022720843855693533\n",
      "  (7, 1023)\t0.0018176675084554826\n",
      "  (7, 1063)\t0.0018744696180947164\n",
      "  (7, 1093)\t7.100263704904229e-06\n",
      "  (7, 1231)\t0.00727067003382193\n",
      "  (7, 1373)\t2.8404521745254074e-05\n",
      "  (7, 1398)\t2.2188324077825715e-07\n",
      "  (7, 1427)\t0.00045441687711387065\n",
      "  (7, 1442)\t2.2188324077825715e-07\n",
      "  (7, 1461)\t0.003635335016910965\n",
      "  (7, 1741)\t0.00727067003382193\n",
      "  :\t:\n",
      "  (50431, 4693)\t0.003734854508450838\n",
      "  (50431, 5252)\t0.04855310860986089\n",
      "  (50431, 5674)\t0.014939418033803352\n",
      "  (50431, 5778)\t0.029878836067606704\n",
      "  (50431, 6100)\t0.029878836067606704\n",
      "  (50431, 6925)\t0.03781540189806473\n",
      "  (50431, 8114)\t0.014939418033803352\n",
      "  (50431, 9637)\t0.003734854508450838\n",
      "  (50431, 9816)\t0.007469709016901676\n",
      "  (50431, 11232)\t0.015406274847359706\n",
      "  (50431, 11282)\t0.001867427254225419\n",
      "  (50431, 13155)\t0.029878836067606704\n",
      "  (50431, 13517)\t0.029878836067606704\n",
      "  (50431, 15230)\t0.014939418033803352\n",
      "  (50431, 15624)\t0.0028011408813381285\n",
      "  (50431, 15864)\t0.003742149146162656\n",
      "  (50431, 16137)\t0.014939418033803352\n",
      "  (50431, 16465)\t0.014939418033803352\n",
      "  (50431, 16621)\t0.014939418033803352\n",
      "  (50431, 17818)\t0.01494306535265926\n",
      "  (50431, 18547)\t0.0009337136271127095\n",
      "  (50431, 19138)\t0.029878836067606704\n",
      "  (50431, 19321)\t0.003793211610145382\n",
      "  (50431, 19775)\t0.007469709016901676\n",
      "  (50431, 20371)\t0.07469709016901675\n"
     ]
    },
    {
     "data": {
      "text/plain": [
       "<50446x20635 sparse matrix of type '<class 'numpy.float64'>'\n",
       "\twith 924641 stored elements in Compressed Sparse Row format>"
      ]
     },
     "execution_count": 13,
     "metadata": {},
     "output_type": "execute_result"
    }
   ],
   "source": [
    "est_rat = recommender_load.compute_markov_score(targetsListOrdered)\n",
    "print(est_rat)\n",
    "est_rat"
   ]
  },
  {
   "cell_type": "code",
   "execution_count": 17,
   "metadata": {},
   "outputs": [
    {
     "data": {
      "text/plain": [
       "[[17154, 20592, 14453, 12599, 13283, 5668, 15558, 11421, 15926, 1741],\n",
       " [17088, 12030, 6843, 9635, 1900, 2986, 3238, 6472, 5105, 1220],\n",
       " [16708, 5679, 4109, 7197, 13803, 5925, 14504, 4199, 16205, 9003],\n",
       " [9643, 9230, 14751, 6639, 6873, 6874, 6875, 6876, 6877, 6878],\n",
       " [5765, 3399, 6762, 9508, 4267, 8229, 16198, 17066, 3885, 17379],\n",
       " [19054, 12303, 3544, 9696, 2736, 16686, 12539, 11989, 10048, 5018],\n",
       " [18040, 6701, 12066, 4111, 12038, 4916, 12075, 8996, 7197, 13247],\n",
       " [8928, 6971, 20532, 7820, 8437, 14277, 19033, 6884, 6624, 4467],\n",
       " [362, 10100, 1909, 16115, 12164, 4574, 2122, 13626, 15775, 17226],\n",
       " [865, 2869, 11654, 18026, 7910, 3919, 12226, 4476, 6861, 10257]]"
      ]
     },
     "execution_count": 17,
     "metadata": {},
     "output_type": "execute_result"
    }
   ],
   "source": [
    "recommendations = recommender_load.recommend(targetsListOrdered, cutoff=10)\n",
    "recommendations[0:10]"
   ]
  },
  {
   "cell_type": "code",
   "execution_count": null,
   "metadata": {},
   "outputs": [],
   "source": []
  }
 ],
 "metadata": {
  "kernelspec": {
   "display_name": "Python 3",
   "language": "python",
   "name": "python3"
  },
  "language_info": {
   "codemirror_mode": {
    "name": "ipython",
    "version": 3
   },
   "file_extension": ".py",
   "mimetype": "text/x-python",
   "name": "python",
   "nbconvert_exporter": "python",
   "pygments_lexer": "ipython3",
   "version": "3.6.7"
  }
 },
 "nbformat": 4,
 "nbformat_minor": 2
}

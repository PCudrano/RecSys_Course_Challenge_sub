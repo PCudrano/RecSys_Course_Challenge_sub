{
 "cells": [
  {
   "cell_type": "markdown",
   "metadata": {},
   "source": [
    "# Building up sequence utils"
   ]
  },
  {
   "cell_type": "markdown",
   "metadata": {},
   "source": [
    "### Load data and build matrices"
   ]
  },
  {
   "cell_type": "code",
   "execution_count": 1,
   "metadata": {},
   "outputs": [
    {
     "name": "stdout",
     "output_type": "stream",
     "text": [
      "/Users/archnnj/Development/recsys/recsys_polimi_challenge_2018/repo\n"
     ]
    }
   ],
   "source": [
    "cd ../../../../"
   ]
  },
  {
   "cell_type": "code",
   "execution_count": 37,
   "metadata": {},
   "outputs": [],
   "source": [
    "import numpy as np\n",
    "import pandas as pd\n",
    "import matplotlib.pyplot as pyplot\n",
    "%matplotlib inline\n",
    "import scipy.sparse as sps\n",
    "from scipy.stats import iqr\n",
    "import seaborn as sns\n",
    "sns.set(style=\"white\", color_codes=True)\n",
    "sns.set_context(rc={\"font.family\":'sans',\"font.size\":12,\"axes.titlesize\":12,\"axes.labelsize\":12})\n",
    "\n",
    "import src.utils.build_icm as build_icm\n",
    "from src.utils.data_splitter import train_test_holdout, train_test_user_holdout, train_test_row_holdout"
   ]
  },
  {
   "cell_type": "code",
   "execution_count": 38,
   "metadata": {},
   "outputs": [],
   "source": [
    "import sys\n",
    "sys.path.append(\"src/libs/RecSys_Course_2018/\") # go to parent dir"
   ]
  },
  {
   "cell_type": "code",
   "execution_count": 39,
   "metadata": {},
   "outputs": [],
   "source": [
    "from SequenceAware.sars_tutorial_master.util.data_utils import create_seq_db_filter_top_k, sequences_to_spfm_format"
   ]
  },
  {
   "cell_type": "markdown",
   "metadata": {},
   "source": [
    "#### Global vars"
   ]
  },
  {
   "cell_type": "code",
   "execution_count": 40,
   "metadata": {},
   "outputs": [],
   "source": [
    "JUPYTER = False"
   ]
  },
  {
   "cell_type": "markdown",
   "metadata": {},
   "source": [
    "#### Load data"
   ]
  },
  {
   "cell_type": "code",
   "execution_count": 41,
   "metadata": {},
   "outputs": [],
   "source": [
    "if JUPYTER:\n",
    "    # Jupyter\n",
    "    tracks_csv_file = \"../../../data/tracks.csv\"\n",
    "    interactions_csv_file = \"../../../data/train.csv\"\n",
    "    playlist_id_csv_file = \"../../../data/target_playlists.csv\"\n",
    "    sequential_csv_file = \"../../../data/train_sequential.csv\"\n",
    "else:\n",
    "    # PyCharm\n",
    "    tracks_csv_file = \"data/tracks.csv\"\n",
    "    interactions_csv_file = \"data/train.csv\"\n",
    "    playlist_id_csv_file = \"data/target_playlists.csv\"\n",
    "    sequential_csv_file = \"data/train_sequential.csv\"\n",
    "\n",
    "tracks_df = pd.read_csv(tracks_csv_file)\n",
    "interactions_df = pd.read_csv(interactions_csv_file)\n",
    "playlist_id_df = pd.read_csv(playlist_id_csv_file)\n",
    "train_sequential_df = pd.read_csv(sequential_csv_file)\n",
    "\n",
    "userList = interactions_df[\"playlist_id\"]\n",
    "itemList = interactions_df[\"track_id\"]\n",
    "ratingList = np.ones(interactions_df.shape[0])\n",
    "targetsList = playlist_id_df[\"playlist_id\"]\n",
    "targetsListOrdered = targetsList[:5000].tolist()\n",
    "targetsListCasual = targetsList[5000:].tolist()\n",
    "\n",
    "userList_unique = pd.unique(userList)\n",
    "itemList_unique = tracks_df[\"track_id\"]\n",
    "numUsers = len(userList_unique)\n",
    "numItems = len(itemList_unique)\n",
    "numberInteractions = interactions_df.size"
   ]
  },
  {
   "cell_type": "code",
   "execution_count": 42,
   "metadata": {},
   "outputs": [],
   "source": [
    "URM_all = sps.coo_matrix((ratingList, (userList, itemList)))\n",
    "URM_all_csr = URM_all.tocsr()"
   ]
  },
  {
   "cell_type": "code",
   "execution_count": 43,
   "metadata": {},
   "outputs": [],
   "source": [
    "itemPopularity = (URM_all>0).sum(axis=0)\n",
    "itemPopularity = np.array(itemPopularity).squeeze()\n",
    "itemPopularity_unsorted = itemPopularity\n",
    "itemPopularity = np.sort(itemPopularity)"
   ]
  },
  {
   "cell_type": "markdown",
   "metadata": {},
   "source": [
    "#### Prepare ICM and URM with splits"
   ]
  },
  {
   "cell_type": "code",
   "execution_count": 44,
   "metadata": {},
   "outputs": [],
   "source": [
    "\n",
    "# Build ICM\n",
    "ICM_all = build_icm.build_icm(tracks_df, split_duration_lenght=800, feature_weights={'albums': 1, 'artists': 0.5, 'durations': 0.1})\n",
    "\n",
    "IDF_ENABLED = True\n",
    "\n",
    "if IDF_ENABLED:\n",
    "    num_tot_items = ICM_all.shape[0]\n",
    "    # let's count how many items have a certain feature\n",
    "    items_per_feature = (ICM_all > 0).sum(axis=0)\n",
    "    IDF = np.array(np.log(num_tot_items / items_per_feature))[0]\n",
    "    ICM_idf = ICM_all.copy()\n",
    "    # compute the number of non-zeros in each col\n",
    "    # NOTE: this works only if X is instance of sparse.csc_matrix\n",
    "    col_nnz = np.diff(sps.csc_matrix(ICM_idf).indptr)\n",
    "    # then normalize the values in each col\n",
    "    ICM_idf.data *= np.repeat(IDF, col_nnz)\n",
    "    ICM_all = ICM_idf  # use IDF features\n",
    "\n",
    "# #### Build URM\n",
    "\n",
    "URM_all = sps.coo_matrix((ratingList, (userList, itemList)))\n",
    "URM_all_csr = URM_all.tocsr()\n",
    "\n",
    "URM_IDF_ENABLED = False\n",
    "\n",
    "if URM_IDF_ENABLED:\n",
    "    num_tot_items = URM_all.shape[0]\n",
    "    # let's count how many items have a certain feature\n",
    "    items_per_feature = (URM_all > 0).sum(axis=0)\n",
    "    IDF = np.array(np.log(num_tot_items / items_per_feature))[0]\n",
    "    URM_idf = URM_all.copy()\n",
    "    # compute the number of non-zeros in each col\n",
    "    # NOTE: this works only if X is instance of sparse.csc_matrix\n",
    "    col_nnz = np.diff(sps.csc_matrix(URM_idf).indptr)\n",
    "    # then normalize the values in each col\n",
    "    URM_idf.data *= np.repeat(IDF, col_nnz)\n",
    "    URM_all = URM_idf  # use IDF features\n",
    "\n",
    "# #### Train/test split: ratings and user holdout\n",
    "\n",
    "seed = 0\n",
    "# ratings holdout\n",
    "# URM_train, URM_test_pred = train_test_holdout(URM_all, train_perc=0.8, seed=seed)\n",
    "# URM_valid=URM_test_pred\n",
    "# URM_test_known = None\n",
    "\n",
    "# user holdout\n",
    "# URM_train, URM_test_known, URM_test_pred = train_test_user_holdout(URM_all, user_perc=0.8, train_perc=0.8, seed=seed)\n",
    "\n",
    "# row holdout\n",
    "# URM_train, URM_test_pred = train_test_row_holdout(URM_all, userList_unique, train_sequential_df, train_perc=0.8, seed=seed, targetsListOrdered=targetsListOrdered, nnz_threshold=10)\n",
    "# URM_test_known = None\n",
    "\n",
    "# row holdout - validation\n",
    "# URM_train_val, URM_test_pred = train_test_row_holdout(URM_all, userList_unique, train_sequential_df, train_perc=0.8,\n",
    "#                                                       seed=seed, targetsListOrdered=targetsListOrdered,\n",
    "#                                                       nnz_threshold=10)\n",
    "# URM_train, URM_valid = train_test_holdout(URM_train_val, train_perc=0.7, seed=seed)\n",
    "# URM_test_known = None\n",
    "URM_train, URM_valid_test_pred = train_test_row_holdout(URM_all, userList_unique, train_sequential_df,\n",
    "                                                        train_perc=0.6,\n",
    "                                                        seed=seed, targetsListOrdered=targetsListOrdered,\n",
    "                                                        nnz_threshold=2)\n",
    "URM_valid, URM_test_pred = train_test_row_holdout(URM_valid_test_pred, userList_unique, train_sequential_df,\n",
    "                                                  train_perc=0.5,\n",
    "                                                  seed=seed, targetsListOrdered=targetsListOrdered,\n",
    "                                                  nnz_threshold=1)\n",
    "\n",
    "\n",
    "URM_train = URM_train\n",
    "URM_validation = URM_valid\n",
    "URM_test = URM_test_pred"
   ]
  },
  {
   "cell_type": "markdown",
   "metadata": {},
   "source": [
    "### Utils"
   ]
  },
  {
   "cell_type": "code",
   "execution_count": 45,
   "metadata": {},
   "outputs": [],
   "source": [
    "def get_urm_tuples_dict_uip_generator(URM, ICM=None):\n",
    "    URM = URM.tocsr()\n",
    "    if ICM is None:\n",
    "        return ({'user': u, 'item': URM.indices[ind]} for u in range(URM.shape[0])\n",
    "                for ind in range(URM.indptr[u], URM.indptr[u + 1]))\n",
    "    else:\n",
    "        return ({'user': u,\n",
    "                 'item': URM.indices[ind],\n",
    "                 'album': ICM.indices[ICM.indptr[u]],\n",
    "                 'artist': ICM.indices[ICM.indptr[u]+1],\n",
    "                 'duration': ICM.indices[ICM.indptr[u]+2]\n",
    "                 } for u in range(URM.shape[0]) for ind in range(URM.indptr[u], URM.indptr[u + 1]))"
   ]
  },
  {
   "cell_type": "code",
   "execution_count": 46,
   "metadata": {},
   "outputs": [],
   "source": [
    "def get_all_user_tuples_dict_uip_generator(u_arr, URM, ICM=None):\n",
    "    URM = URM.tocsr()\n",
    "    # if ICM is None:\n",
    "    return ({'user': u, 'item': i} for u in u_arr for i in range(URM.shape[1]))\n",
    "    # else:\n",
    "    #     return ({'user': u,\n",
    "    #              'item': URM.indices[ind],\n",
    "    #              'album': ICM.indices[ICM.indptr[u]],\n",
    "    #              'artist': ICM.indices[ICM.indptr[u]+1],\n",
    "    #              'duration': ICM.indices[ICM.indptr[u]+2]\n",
    "    #              }#  for ind in range(URM.indptr[u], URM.indptr[u + 1]))\n"
   ]
  },
  {
   "cell_type": "code",
   "execution_count": 88,
   "metadata": {},
   "outputs": [],
   "source": [
    "def get_sequences_df(URM, train_sequential_df, user_arr):\n",
    "    sequences_arr = []\n",
    "    for user_id in user_arr:\n",
    "        URM_start_pos = URM.indptr[user_id]\n",
    "        URM_end_pos = URM.indptr[user_id + 1]\n",
    "\n",
    "        original_order_items = np.array(\n",
    "            train_sequential_df.loc[train_sequential_df['playlist_id'].isin([user_id])]['track_id'])\n",
    "        original_order_items = np.array([i for i in original_order_items if i in URM.indices[URM_start_pos:URM_end_pos]]) # filter items in urm\n",
    "        # original_order_items_sorted_i = original_order_items.argsort()\n",
    "\n",
    "        sequences_arr.append({'user_id':user_id, 'sequence': original_order_items.tolist()})\n",
    "    sequences = pd.DataFrame(sequences_arr)\n",
    "    sequences = sequences[['user_id', 'sequence']]\n",
    "    return sequences"
   ]
  },
  {
   "cell_type": "markdown",
   "metadata": {},
   "source": [
    "#### Create Sequence"
   ]
  },
  {
   "cell_type": "code",
   "execution_count": 91,
   "metadata": {},
   "outputs": [],
   "source": [
    "sequences = get_sequences_df(URM_train, train_sequential_df, targetsListOrdered)"
   ]
  },
  {
   "cell_type": "code",
   "execution_count": 92,
   "metadata": {},
   "outputs": [
    {
     "data": {
      "text/html": [
       "<div>\n",
       "<style scoped>\n",
       "    .dataframe tbody tr th:only-of-type {\n",
       "        vertical-align: middle;\n",
       "    }\n",
       "\n",
       "    .dataframe tbody tr th {\n",
       "        vertical-align: top;\n",
       "    }\n",
       "\n",
       "    .dataframe thead th {\n",
       "        text-align: right;\n",
       "    }\n",
       "</style>\n",
       "<table border=\"1\" class=\"dataframe\">\n",
       "  <thead>\n",
       "    <tr style=\"text-align: right;\">\n",
       "      <th></th>\n",
       "      <th>user_id</th>\n",
       "      <th>sequence</th>\n",
       "    </tr>\n",
       "  </thead>\n",
       "  <tbody>\n",
       "    <tr>\n",
       "      <th>0</th>\n",
       "      <td>7</td>\n",
       "      <td>[12493, 17495, 13424, 7109, 14714, 15650, 1574...</td>\n",
       "    </tr>\n",
       "    <tr>\n",
       "      <th>1</th>\n",
       "      <td>25</td>\n",
       "      <td>[13805, 7035, 2336, 16663, 4720, 19967, 12384,...</td>\n",
       "    </tr>\n",
       "    <tr>\n",
       "      <th>2</th>\n",
       "      <td>29</td>\n",
       "      <td>[17056, 16912, 14907, 4148, 15430, 4543, 16387...</td>\n",
       "    </tr>\n",
       "    <tr>\n",
       "      <th>3</th>\n",
       "      <td>34</td>\n",
       "      <td>[16759, 9266, 13302, 18536, 8248, 523, 11656, ...</td>\n",
       "    </tr>\n",
       "    <tr>\n",
       "      <th>4</th>\n",
       "      <td>50</td>\n",
       "      <td>[14417, 19813, 5281, 6245, 2388, 13452, 153]</td>\n",
       "    </tr>\n",
       "  </tbody>\n",
       "</table>\n",
       "</div>"
      ],
      "text/plain": [
       "   user_id                                           sequence\n",
       "0        7  [12493, 17495, 13424, 7109, 14714, 15650, 1574...\n",
       "1       25  [13805, 7035, 2336, 16663, 4720, 19967, 12384,...\n",
       "2       29  [17056, 16912, 14907, 4148, 15430, 4543, 16387...\n",
       "3       34  [16759, 9266, 13302, 18536, 8248, 523, 11656, ...\n",
       "4       50       [14417, 19813, 5281, 6245, 2388, 13452, 153]"
      ]
     },
     "execution_count": 92,
     "metadata": {},
     "output_type": "execute_result"
    }
   ],
   "source": [
    "sequences.head()"
   ]
  },
  {
   "cell_type": "code",
   "execution_count": null,
   "metadata": {},
   "outputs": [],
   "source": []
  }
 ],
 "metadata": {
  "kernelspec": {
   "display_name": "Python 3",
   "language": "python",
   "name": "python3"
  },
  "language_info": {
   "codemirror_mode": {
    "name": "ipython",
    "version": 3
   },
   "file_extension": ".py",
   "mimetype": "text/x-python",
   "name": "python",
   "nbconvert_exporter": "python",
   "pygments_lexer": "ipython3",
   "version": "3.6.7"
  }
 },
 "nbformat": 4,
 "nbformat_minor": 2
}
